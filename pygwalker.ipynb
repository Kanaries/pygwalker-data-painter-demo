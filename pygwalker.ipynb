{
 "cells": [
  {
   "cell_type": "code",
   "execution_count": 1,
   "id": "9dd192bb-bb8e-4dfa-8272-d165172a2396",
   "metadata": {
    "tags": []
   },
   "outputs": [
    {
     "data": {
      "text/html": [
       "<div>\n",
       "<style scoped>\n",
       "    .dataframe tbody tr th:only-of-type {\n",
       "        vertical-align: middle;\n",
       "    }\n",
       "\n",
       "    .dataframe tbody tr th {\n",
       "        vertical-align: top;\n",
       "    }\n",
       "\n",
       "    .dataframe thead th {\n",
       "        text-align: right;\n",
       "    }\n",
       "</style>\n",
       "<table border=\"1\" class=\"dataframe\">\n",
       "  <thead>\n",
       "    <tr style=\"text-align: right;\">\n",
       "      <th></th>\n",
       "      <th>date</th>\n",
       "      <th>month</th>\n",
       "      <th>season</th>\n",
       "      <th>hour</th>\n",
       "      <th>year</th>\n",
       "      <th>holiday</th>\n",
       "      <th>temperature</th>\n",
       "      <th>feeling_temp</th>\n",
       "      <th>humidity</th>\n",
       "      <th>winspeed</th>\n",
       "      <th>casual</th>\n",
       "      <th>registered</th>\n",
       "      <th>count</th>\n",
       "      <th>daytime</th>\n",
       "      <th>dayofweek</th>\n",
       "      <th>workingday</th>\n",
       "    </tr>\n",
       "  </thead>\n",
       "  <tbody>\n",
       "    <tr>\n",
       "      <th>0</th>\n",
       "      <td>2011-01-01</td>\n",
       "      <td>1</td>\n",
       "      <td>winter</td>\n",
       "      <td>0</td>\n",
       "      <td>2011</td>\n",
       "      <td>no</td>\n",
       "      <td>3.28</td>\n",
       "      <td>3.0014</td>\n",
       "      <td>81</td>\n",
       "      <td>0.0</td>\n",
       "      <td>3</td>\n",
       "      <td>13</td>\n",
       "      <td>16</td>\n",
       "      <td>am</td>\n",
       "      <td>6</td>\n",
       "      <td>0</td>\n",
       "    </tr>\n",
       "    <tr>\n",
       "      <th>1</th>\n",
       "      <td>2011-01-01</td>\n",
       "      <td>1</td>\n",
       "      <td>winter</td>\n",
       "      <td>1</td>\n",
       "      <td>2011</td>\n",
       "      <td>no</td>\n",
       "      <td>2.34</td>\n",
       "      <td>1.9982</td>\n",
       "      <td>80</td>\n",
       "      <td>0.0</td>\n",
       "      <td>8</td>\n",
       "      <td>32</td>\n",
       "      <td>40</td>\n",
       "      <td>am</td>\n",
       "      <td>6</td>\n",
       "      <td>0</td>\n",
       "    </tr>\n",
       "    <tr>\n",
       "      <th>2</th>\n",
       "      <td>2011-01-01</td>\n",
       "      <td>1</td>\n",
       "      <td>winter</td>\n",
       "      <td>2</td>\n",
       "      <td>2011</td>\n",
       "      <td>no</td>\n",
       "      <td>2.34</td>\n",
       "      <td>1.9982</td>\n",
       "      <td>80</td>\n",
       "      <td>0.0</td>\n",
       "      <td>5</td>\n",
       "      <td>27</td>\n",
       "      <td>32</td>\n",
       "      <td>am</td>\n",
       "      <td>6</td>\n",
       "      <td>0</td>\n",
       "    </tr>\n",
       "    <tr>\n",
       "      <th>3</th>\n",
       "      <td>2011-01-01</td>\n",
       "      <td>1</td>\n",
       "      <td>winter</td>\n",
       "      <td>3</td>\n",
       "      <td>2011</td>\n",
       "      <td>no</td>\n",
       "      <td>3.28</td>\n",
       "      <td>3.0014</td>\n",
       "      <td>75</td>\n",
       "      <td>0.0</td>\n",
       "      <td>3</td>\n",
       "      <td>10</td>\n",
       "      <td>13</td>\n",
       "      <td>am</td>\n",
       "      <td>6</td>\n",
       "      <td>0</td>\n",
       "    </tr>\n",
       "    <tr>\n",
       "      <th>4</th>\n",
       "      <td>2011-01-01</td>\n",
       "      <td>1</td>\n",
       "      <td>winter</td>\n",
       "      <td>4</td>\n",
       "      <td>2011</td>\n",
       "      <td>no</td>\n",
       "      <td>3.28</td>\n",
       "      <td>3.0014</td>\n",
       "      <td>75</td>\n",
       "      <td>0.0</td>\n",
       "      <td>0</td>\n",
       "      <td>1</td>\n",
       "      <td>1</td>\n",
       "      <td>am</td>\n",
       "      <td>6</td>\n",
       "      <td>0</td>\n",
       "    </tr>\n",
       "  </tbody>\n",
       "</table>\n",
       "</div>"
      ],
      "text/plain": [
       "         date  month  season  hour  year holiday  temperature  feeling_temp  \\\n",
       "0  2011-01-01      1  winter     0  2011      no         3.28        3.0014   \n",
       "1  2011-01-01      1  winter     1  2011      no         2.34        1.9982   \n",
       "2  2011-01-01      1  winter     2  2011      no         2.34        1.9982   \n",
       "3  2011-01-01      1  winter     3  2011      no         3.28        3.0014   \n",
       "4  2011-01-01      1  winter     4  2011      no         3.28        3.0014   \n",
       "\n",
       "   humidity  winspeed  casual  registered  count daytime  dayofweek  \\\n",
       "0        81       0.0       3          13     16      am          6   \n",
       "1        80       0.0       8          32     40      am          6   \n",
       "2        80       0.0       5          27     32      am          6   \n",
       "3        75       0.0       3          10     13      am          6   \n",
       "4        75       0.0       0           1      1      am          6   \n",
       "\n",
       "   workingday  \n",
       "0           0  \n",
       "1           0  \n",
       "2           0  \n",
       "3           0  \n",
       "4           0  "
      ]
     },
     "execution_count": 1,
     "metadata": {},
     "output_type": "execute_result"
    }
   ],
   "source": [
    "import pandas as pd\n",
    "df = pd.read_csv(\"./dataset_bike.csv\")\n",
    "df.head()"
   ]
  },
  {
   "cell_type": "code",
   "execution_count": 2,
   "id": "f98a5c24-6858-4785-8439-55ce9167eec1",
   "metadata": {
    "tags": []
   },
   "outputs": [],
   "source": [
    "import pygwalker as pyg"
   ]
  },
  {
   "cell_type": "code",
   "execution_count": 3,
   "id": "b63d3d09-65c2-4243-bba5-81f848815d1d",
   "metadata": {
    "tags": []
   },
   "outputs": [
    {
     "data": {
      "application/vnd.jupyter.widget-view+json": {
       "model_id": "147637196f31426585720120407a0a70",
       "version_major": 2,
       "version_minor": 0
      },
      "text/plain": [
       "Box(children=(HTML(value='<div id=\"ifr-pyg-00060d8320f770863CrhpEgyBlcanwiR\" style=\"height: auto\">\\n    <head>…"
      ]
     },
     "metadata": {},
     "output_type": "display_data"
    },
    {
     "data": {
      "text/html": [],
      "text/plain": [
       "<IPython.core.display.HTML object>"
      ]
     },
     "metadata": {},
     "output_type": "display_data"
    },
    {
     "data": {
      "text/plain": [
       "<pygwalker.api.pygwalker.PygWalker at 0x108303880>"
      ]
     },
     "execution_count": 3,
     "metadata": {},
     "output_type": "execute_result"
    }
   ],
   "source": [
    "pyg.walk(df)"
   ]
  },
  {
   "cell_type": "code",
   "execution_count": null,
   "id": "2885466a-8418-4969-baad-0795e8bd6663",
   "metadata": {},
   "outputs": [],
   "source": []
  }
 ],
 "metadata": {
  "kernelspec": {
   "display_name": "Python 3 (ipykernel)",
   "language": "python",
   "name": "python3"
  },
  "language_info": {
   "codemirror_mode": {
    "name": "ipython",
    "version": 3
   },
   "file_extension": ".py",
   "mimetype": "text/x-python",
   "name": "python",
   "nbconvert_exporter": "python",
   "pygments_lexer": "ipython3",
   "version": "3.10.9"
  }
 },
 "nbformat": 4,
 "nbformat_minor": 5
}
